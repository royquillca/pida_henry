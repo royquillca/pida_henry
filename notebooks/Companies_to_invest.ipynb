{
 "cells": [
  {
   "cell_type": "code",
   "execution_count": 20,
   "metadata": {},
   "outputs": [],
   "source": [
    "import pandas as pd\n",
    "import numpy as np\n",
    "import plotly.express as px\n",
    "import plotly.graph_objects as go\n",
    "import yfinance as yf"
   ]
  },
  {
   "cell_type": "code",
   "execution_count": 38,
   "metadata": {},
   "outputs": [
    {
     "name": "stdout",
     "output_type": "stream",
     "text": [
      "[*********************100%***********************]  1 of 1 completed\n",
      "[*********************100%***********************]  1 of 1 completed\n",
      "[*********************100%***********************]  1 of 1 completed\n"
     ]
    }
   ],
   "source": [
    "symbols = ['AVGO', 'MTD', 'NVR']\n",
    "for symbol in symbols:\n",
    "    data = yf.download(symbol, start='2000-01-01', end='2023-02-23')\n",
    "    data.to_parquet(f'../data/inv_companies/{symbol.lower()}.parquet')"
   ]
  },
  {
   "cell_type": "code",
   "execution_count": 39,
   "metadata": {},
   "outputs": [],
   "source": [
    "MTD = pd.read_parquet('../data/inv_companies/mtd.parquet')\n",
    "AVGO = pd.read_parquet('../data/inv_companies/avgo.parquet')\n",
    "NVR = pd.read_parquet('../data/inv_companies/nvr.parquet')"
   ]
  },
  {
   "cell_type": "code",
   "execution_count": 50,
   "metadata": {},
   "outputs": [],
   "source": [
    "def calc_volatility(df, period):\n",
    "    # Calcular los cambios porcentuales diarios en el precio de la acción\n",
    "    daily_returns = df['Close'].pct_change()\n",
    "\n",
    "    # Calcular la volatilidad según el período especificado\n",
    "    if period == 'anual':\n",
    "        volatility = daily_returns.resample('Y').std().iloc[-1] * (252 ** 0.5)\n",
    "    elif period == 'semestral':\n",
    "        volatility = daily_returns.resample('6M').std().iloc[-1] * (252 ** 0.5)\n",
    "    elif period == 'trimestral':\n",
    "        volatility = daily_returns.resample('Q').std().iloc[-1] * (252 ** 0.5)\n",
    "    else:\n",
    "        raise ValueError(f\"El período {period} no es válido.\")\n",
    "\n",
    "    # Retornar la volatilidad calculada\n",
    "    return round(volatility,2)"
   ]
  },
  {
   "cell_type": "code",
   "execution_count": 83,
   "metadata": {},
   "outputs": [],
   "source": [
    "import pandas as pd\n",
    "\n",
    "def calculate_cumulative_return(df, period):\n",
    "    # Selecciona los datos de precios de cierre ajustados para el período de tiempo seleccionado\n",
    "    df = df.reset_index()\n",
    "    df_period = df.loc[df['Date'] >= pd.Timestamp.today() - pd.tseries.offsets.DateOffset(months=int(period[:-1])*6)]\n",
    "    \n",
    "    # Resample a precios de cierre ajustados mensuales\n",
    "    df_return = df_period.resample('M', on='Date').last()\n",
    "    \n",
    "    # Calcula los retornos mensuales y acumulados\n",
    "    df_return['return'] = df_return['Adj Close'].pct_change()\n",
    "    df_return['cumulative_return'] = (1 + df_return['return']).cumprod()\n",
    "    \n",
    "    cumulative_return = df_return['cumulative_return'][-1]\n",
    "    # Imprime la rentabilidad acumulada\n",
    "    # print(f\"Rentabilidad acumulada en los últimos {period}: {cumulative_return}\")\n",
    "\n",
    "    return cumulative_return\n"
   ]
  },
  {
   "cell_type": "code",
   "execution_count": 84,
   "metadata": {},
   "outputs": [
    {
     "name": "stdout",
     "output_type": "stream",
     "text": [
      "Rentabilidad acumulada en los últimos 1y: 1.3424805747839428\n"
     ]
    },
    {
     "data": {
      "text/plain": [
       "1.3424805747839428"
      ]
     },
     "execution_count": 84,
     "metadata": {},
     "output_type": "execute_result"
    }
   ],
   "source": [
    "calculate_cumulative_return(MTD, '1y')"
   ]
  },
  {
   "cell_type": "code",
   "execution_count": null,
   "metadata": {},
   "outputs": [],
   "source": []
  }
 ],
 "metadata": {
  "kernelspec": {
   "display_name": "venv",
   "language": "python",
   "name": "python3"
  },
  "language_info": {
   "codemirror_mode": {
    "name": "ipython",
    "version": 3
   },
   "file_extension": ".py",
   "mimetype": "text/x-python",
   "name": "python",
   "nbconvert_exporter": "python",
   "pygments_lexer": "ipython3",
   "version": "3.7.9"
  },
  "orig_nbformat": 4,
  "vscode": {
   "interpreter": {
    "hash": "60b2b9ad501eb5d5e8ae9cefa7b1456ac0527ec201dc6b8d9e453c3bd349ffc6"
   }
  }
 },
 "nbformat": 4,
 "nbformat_minor": 2
}
